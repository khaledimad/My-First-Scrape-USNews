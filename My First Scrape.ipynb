{
 "cells": [
  {
   "cell_type": "markdown",
   "metadata": {},
   "source": [
    "# Scraping USnews Top Stories"
   ]
  },
  {
   "cell_type": "code",
   "execution_count": 1,
   "metadata": {},
   "outputs": [],
   "source": [
    "#Import the required packages\n",
    "import requests\n",
    "from bs4 import BeautifulSoup"
   ]
  },
  {
   "cell_type": "code",
   "execution_count": 2,
   "metadata": {},
   "outputs": [
    {
     "data": {
      "text/plain": [
       "b'<HTML><HEAD>\\n<TITLE>Access Denied</TITLE>\\n</HEAD><BODY>\\n<H1>Access Denied</H1>\\n \\nYou don\\'t have permission to access \"http&#58;&#47;&#47;www&#46;usnews&#46;com&#47;\" on this server.<P>\\nReference&#32;&#35;18&#46;9318ae8c&#46;1584932661&#46;3209fa96\\n</BODY>\\n</HTML>\\n'"
      ]
     },
     "execution_count": 2,
     "metadata": {},
     "output_type": "execute_result"
    }
   ],
   "source": [
    "#Part 1\n",
    "#First we obtain the HTML content from the webpage we are trying to scrape\n",
    "#Assign variable to display the content of the webpage\n",
    "r = requests.get(\"https://www.usnews.com/\")\n",
    "content = r.content\n",
    "content"
   ]
  },
  {
   "cell_type": "code",
   "execution_count": 3,
   "metadata": {},
   "outputs": [],
   "source": [
    "#Since we are obtaining errors, we will add a header to our request so\n",
    "#that the site thinks we are a genuine user!\n",
    "headers = {\n",
    "'User-Agent': 'Mozilla/5.0 (Macintosh; Intel Mac OS X 10.13; rv:60.0) Gecko/20100101 Firefox/60.0'}"
   ]
  },
  {
   "cell_type": "code",
   "execution_count": 4,
   "metadata": {},
   "outputs": [],
   "source": [
    "#Repeat\n",
    "r = requests.get(\"https://www.usnews.com/\", headers=headers)\n",
    "content = r.content"
   ]
  },
  {
   "cell_type": "code",
   "execution_count": 6,
   "metadata": {},
   "outputs": [],
   "source": [
    "#Let's allow beautiful soup to work\n",
    "soup = BeautifulSoup(content)"
   ]
  },
  {
   "cell_type": "code",
   "execution_count": 12,
   "metadata": {},
   "outputs": [],
   "source": [
    "#Part 2\n",
    "#Now lets find the elements we are trying to look for (top stories)\n",
    "top_stories = soup.find_all('div', class_='ArmRestTopStories__CollapseBorderContentBox-s1vkad-0 kkieLV s85n6m5-0-Box-cwadsP fHRMIQ')"
   ]
  },
  {
   "cell_type": "code",
   "execution_count": 13,
   "metadata": {},
   "outputs": [],
   "source": [
    "#There are 2 top stories (index 0/1). Second top story has index 1.\n",
    "top_story_2 = top_stories[1]"
   ]
  },
  {
   "cell_type": "code",
   "execution_count": 14,
   "metadata": {},
   "outputs": [],
   "source": [
    "top_story_2_summ = top_story_2.find_all('div', {'class':'s85n6m5-0-Box-cwadsP kwDnRU'})"
   ]
  },
  {
   "cell_type": "code",
   "execution_count": 15,
   "metadata": {},
   "outputs": [],
   "source": [
    "#Extracting instances of the url for the second top story and printing it for next step!\n",
    "top_stories=[]\n",
    "for link in top_story_2_summ[0].find_all('a', href=True):\n",
    "    top_stories.append(link['href'])"
   ]
  },
  {
   "cell_type": "code",
   "execution_count": 16,
   "metadata": {},
   "outputs": [
    {
     "name": "stdout",
     "output_type": "stream",
     "text": [
      "https://www.usnews.com/news/national-news/articles/2020-01-09/brexit-bill-clears-key-hurdle-uk-poised-for-jan-31-exit-from-european-union\n"
     ]
    }
   ],
   "source": [
    "#Part 3\n",
    "#Displaying the url of the second top story\n",
    "\n",
    "print(top_stories[0])"
   ]
  },
  {
   "cell_type": "code",
   "execution_count": 17,
   "metadata": {},
   "outputs": [],
   "source": [
    "#Obtaining URL\n",
    "second_url=[]\n",
    "for link in top_story_2_summ[0].find_all('a', href=True):\n",
    "   second_url.append(link['href'])\n",
    "url_story=second_url[0]"
   ]
  },
  {
   "cell_type": "code",
   "execution_count": 18,
   "metadata": {},
   "outputs": [],
   "source": [
    "#Part 4\n",
    "#First we obtain the HTML content from the webpage we are trying to scrape\n",
    "#Assign variable to display the content of the webpage\n",
    "r2 = requests.get(url_story, headers=headers)\n",
    "content_2 = r2.content"
   ]
  },
  {
   "cell_type": "code",
   "execution_count": 19,
   "metadata": {},
   "outputs": [],
   "source": [
    "#Use beautiful soup tool\n",
    "soup2 = BeautifulSoup(content_2)"
   ]
  },
  {
   "cell_type": "code",
   "execution_count": 20,
   "metadata": {},
   "outputs": [],
   "source": [
    "#Get Header\n",
    "header = soup2.find('h1').get_text()"
   ]
  },
  {
   "cell_type": "code",
   "execution_count": 21,
   "metadata": {},
   "outputs": [],
   "source": [
    "#Get text from all p tags.\n",
    "body = soup2.find_all('div',{\"class\":\"s85n6m5-0-Box-cwadsP jxkEdK\"})[0]\n",
    "p_tags = body.find_all('p')"
   ]
  },
  {
   "cell_type": "code",
   "execution_count": 22,
   "metadata": {},
   "outputs": [],
   "source": [
    "#Get text from each p tags and strip surrounding blank space.\n",
    "p_tags_text = [tag.get_text().strip() for tag in p_tags]"
   ]
  },
  {
   "cell_type": "code",
   "execution_count": 23,
   "metadata": {},
   "outputs": [],
   "source": [
    "#Filter out sentences that contain newline characters or don't contain periods.\n",
    "sentence_list = [sentence for sentence in p_tags_text if not '\\n' in sentence]\n",
    "sentence_list = [sentence for sentence in sentence_list if '.' in sentence]"
   ]
  },
  {
   "cell_type": "code",
   "execution_count": 24,
   "metadata": {},
   "outputs": [
    {
     "name": "stdout",
     "output_type": "stream",
     "text": [
      "Brexit Bill Clears Key Hurdle, U.K. Poised for Jan. 31 Exit from European Union\n",
      "The United Kingdom is poised to leave the European Union on Jan. 31 after British lawmakers Thursday gave final approval to Prime Minister Boris Johnson's Brexit bill.\n",
      "The measure passed the House of Commons easily and without fanfare in an anticlimactic end to a chaotic, yearslong saga that began after U.K. citizens narrowly voted to leave the EU in 2016.\n",
      "The withdrawal bill's passage was expected: Lawmakers gave it initial approval in December after a general election that Johnson's Conservative Party won decisively, picking up 66 seats in Parliament.\n"
     ]
    }
   ],
   "source": [
    "#Part 5\n",
    "print(header)\n",
    "print(sentence_list[0])\n",
    "print(sentence_list[1])\n",
    "print(sentence_list[2])"
   ]
  }
 ],
 "metadata": {
  "kernelspec": {
   "display_name": "Python 3",
   "language": "python",
   "name": "python3"
  },
  "language_info": {
   "codemirror_mode": {
    "name": "ipython",
    "version": 3
   },
   "file_extension": ".py",
   "mimetype": "text/x-python",
   "name": "python",
   "nbconvert_exporter": "python",
   "pygments_lexer": "ipython3",
   "version": "3.7.3"
  },
  "toc": {
   "base_numbering": 1,
   "nav_menu": {},
   "number_sections": true,
   "sideBar": true,
   "skip_h1_title": false,
   "title_cell": "Table of Contents",
   "title_sidebar": "Contents",
   "toc_cell": false,
   "toc_position": {},
   "toc_section_display": true,
   "toc_window_display": false
  },
  "varInspector": {
   "cols": {
    "lenName": 16,
    "lenType": 16,
    "lenVar": 40
   },
   "kernels_config": {
    "python": {
     "delete_cmd_postfix": "",
     "delete_cmd_prefix": "del ",
     "library": "var_list.py",
     "varRefreshCmd": "print(var_dic_list())"
    },
    "r": {
     "delete_cmd_postfix": ") ",
     "delete_cmd_prefix": "rm(",
     "library": "var_list.r",
     "varRefreshCmd": "cat(var_dic_list()) "
    }
   },
   "types_to_exclude": [
    "module",
    "function",
    "builtin_function_or_method",
    "instance",
    "_Feature"
   ],
   "window_display": false
  }
 },
 "nbformat": 4,
 "nbformat_minor": 2
}
